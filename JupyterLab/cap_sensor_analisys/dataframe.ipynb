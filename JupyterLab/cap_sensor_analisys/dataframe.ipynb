{
 "cells": [
  {
   "cell_type": "code",
   "execution_count": 24,
   "metadata": {},
   "outputs": [],
   "source": [
    "import pandas as pd\n",
    "from pandas import Series, DataFrame\n",
    "import os\n",
    "import matplotlib.pyplot as plt"
   ]
  },
  {
   "cell_type": "code",
   "execution_count": 4,
   "metadata": {},
   "outputs": [
    {
     "name": "stdout",
     "output_type": "stream",
     "text": [
      "0    4\n",
      "1    5\n",
      "2    6\n",
      "3    7\n",
      "dtype: int64\n"
     ]
    }
   ],
   "source": [
    "obj=Series([4,5,6,7])\n",
    "print(obj)"
   ]
  },
  {
   "cell_type": "code",
   "execution_count": 28,
   "metadata": {},
   "outputs": [
    {
     "name": "stdout",
     "output_type": "stream",
     "text": [
      "         time            Cp            Rp\n",
      "0    1.169388  1.829832e-11 -1.305150e+08\n",
      "1    2.241788  1.945103e-11 -1.390574e+08\n",
      "2    3.321036  1.760786e-11  5.601072e+08\n",
      "3    4.398844  1.719735e-11 -7.354080e+08\n",
      "4    5.486742  1.857897e-11 -1.422369e+08\n",
      "5    6.564490  1.856570e-11 -1.137151e+08\n",
      "6    7.643602  1.794882e-11 -5.628951e+07\n",
      "7    8.719718  1.891423e-11 -3.073194e+08\n",
      "8    9.797351  1.771104e-11 -1.376432e+08\n",
      "9   10.925320  1.785478e-11 -1.985986e+08\n",
      "10  11.999810  1.774267e-11 -1.025683e+08\n",
      "11  13.077580  1.726961e-11 -7.384796e+07\n",
      "12  14.153930  1.714642e-11  4.471300e+08\n",
      "13  15.234680  1.850438e-11 -2.090300e+08\n",
      "14  16.310800  1.820249e-11 -2.095382e+08\n",
      "15  17.389290  1.750376e-11 -8.977894e+07\n",
      "16  18.519080  1.805289e-11 -1.595089e+08\n",
      "17  19.601400  1.757728e-11 -8.233397e+07\n",
      "18  20.677020  1.931021e-11 -9.810695e+07\n",
      "19  21.753070  1.866034e-11 -3.112732e+08\n",
      "20  22.887040  1.736842e-11 -2.976757e+08\n",
      "21  23.968500  1.939708e-11 -1.388522e+08\n",
      "22  25.043860  1.798250e-11 -2.216800e+08\n",
      "23  26.122560  1.790015e-11 -1.410484e+08\n",
      "24  27.268360  1.837693e-11 -1.074001e+09\n",
      "25  28.345350  1.790098e-11 -1.313139e+08\n",
      "26  29.421210  1.880015e-11 -2.053916e+08\n",
      "27  30.501200  1.851837e-11 -1.387257e+08\n",
      "28  31.576700  1.848950e-11 -2.981417e+08\n",
      "29  32.655470  1.904756e-11  8.674284e+10\n",
      "30  33.735560  1.761189e-11 -1.341261e+08\n",
      "31  34.811310  1.667096e-11 -1.058915e+08\n"
     ]
    }
   ],
   "source": [
    "df1 = pd.read_table(r\"C:\\Users\\tagawa\\Desktop\\JupyterLab\\cap_sensor_analisys\\original_data\\5%sensor0g_2018-11-30_001524.dat\", sep=\"\\s+\",header=1, usecols=['time', 'Cp','Rp'])\n",
    "df2 = pd.read_table(r\"C:\\Users\\tagawa\\Desktop\\JupyterLab\\cap_sensor_analisys\\original_data\\5%sensorver2_55g_2018-11-30_003721.dat\", sep=\"\\s+\",header=1, usecols=['time', 'Cp','Rp'])\n",
    "df3 = pd.read_table(r\"C:\\Users\\tagawa\\Desktop\\JupyterLab\\cap_sensor_analisys\\original_data\\5%sensor0g_2018-11-30_001524.dat\", sep=\"\\s+\",header=1, usecols=['time', 'Cp','Rp'])\n",
    "df4 = pd.read_table(r\"C:\\Users\\tagawa\\Desktop\\JupyterLab\\cap_sensor_analisys\\original_data\\5%sensor0g_2018-11-30_001524.dat\", sep=\"\\s+\",header=1, usecols=['time', 'Cp','Rp'])\n",
    "df5 = pd.read_table(r\"C:\\Users\\tagawa\\Desktop\\JupyterLab\\cap_sensor_analisys\\original_data\\5%sensor0g_2018-11-30_001524.dat\", sep=\"\\s+\",header=1, usecols=['time', 'Cp','Rp'])\n",
    "df6 = pd.read_table(r\"C:\\Users\\tagawa\\Desktop\\JupyterLab\\cap_sensor_analisys\\original_data\\5%sensor0g_2018-11-30_001524.dat\", sep=\"\\s+\",header=1, usecols=['time', 'Cp','Rp'])\n",
    "df7 = pd.read_table(r\"C:\\Users\\tagawa\\Desktop\\JupyterLab\\cap_sensor_analisys\\original_data\\5%sensor0g_2018-11-30_001524.dat\", sep=\"\\s+\",header=1, usecols=['time', 'Cp','Rp'])\n",
    "df8 = pd.read_table(r\"C:\\Users\\tagawa\\Desktop\\JupyterLab\\cap_sensor_analisys\\original_data\\5%sensor0g_2018-11-30_001524.dat\", sep=\"\\s+\",header=1, usecols=['time', 'Cp','Rp'])\n",
    "df9 = pd.read_table(r\"C:\\Users\\tagawa\\Desktop\\JupyterLab\\cap_sensor_analisys\\original_data\\5%sensor0g_2018-11-30_001524.dat\", sep=\"\\s+\",header=1, usecols=['time', 'Cp','Rp'])\n",
    "df10 = pd.read_table(r\"C:\\Users\\tagawa\\Desktop\\JupyterLab\\cap_sensor_analisys\\original_data\\5%sensor0g_2018-11-30_001524.dat\", sep=\"\\s+\",header=1, usecols=['time', 'Cp','Rp'])\n",
    "df11 = pd.read_table(r\"C:\\Users\\tagawa\\Desktop\\JupyterLab\\cap_sensor_analisys\\original_data\\5%sensor0g_2018-11-30_001524.dat\", sep=\"\\s+\",header=1, usecols=['time', 'Cp','Rp'])\n",
    "df12 = pd.read_table(r\"C:\\Users\\tagawa\\Desktop\\JupyterLab\\cap_sensor_analisys\\original_data\\5%sensor0g_2018-11-30_001524.dat\", sep=\"\\s+\",header=1, usecols=['time', 'Cp','Rp'])\n",
    "df13 = pd.read_table(r\"C:\\Users\\tagawa\\Desktop\\JupyterLab\\cap_sensor_analisys\\original_data\\5%sensor0g_2018-11-30_001524.dat\", sep=\"\\s+\",header=1, usecols=['time', 'Cp','Rp'])\n",
    "df14 = pd.read_table(r\"C:\\Users\\tagawa\\Desktop\\JupyterLab\\cap_sensor_analisys\\original_data\\5%sensor0g_2018-11-30_001524.dat\", sep=\"\\s+\",header=1, usecols=['time', 'Cp','Rp'])\n",
    "df15 = pd.read_table(r\"C:\\Users\\tagawa\\Desktop\\JupyterLab\\cap_sensor_analisys\\original_data\\5%sensor0g_2018-11-30_001524.dat\", sep=\"\\s+\",header=1, usecols=['time', 'Cp','Rp'])\n",
    "df16 = pd.read_table(r\"C:\\Users\\tagawa\\Desktop\\JupyterLab\\cap_sensor_analisys\\original_data\\5%sensor0g_2018-11-30_001524.dat\", sep=\"\\s+\",header=1, usecols=['time', 'Cp','Rp'])"
   ]
  },
  {
   "cell_type": "code",
   "execution_count": 27,
   "metadata": {},
   "outputs": [
    {
     "name": "stdout",
     "output_type": "stream",
     "text": [
      "mean:  1.8130082500000002e-11\n",
      "std 6.939646133211226e-13\n",
      "var:  4.815868845419352e-25\n"
     ]
    }
   ],
   "source": [
    "#平均，標準偏差，分散\n",
    "mean = df['Cp'].mean()\n",
    "std = df['Cp'].std()\n",
    "var = df['Cp'].var()\n",
    "print(\"mean: \",mean)\n",
    "print(\"std\", std)\n",
    "print(\"var: \", var) "
   ]
  },
  {
   "cell_type": "markdown",
   "metadata": {},
   "source": [
    "#すべてのデータを読み込んで，平均と標準偏差を返す"
   ]
  },
  {
   "cell_type": "code",
   "execution_count": null,
   "metadata": {},
   "outputs": [],
   "source": []
  }
 ],
 "metadata": {
  "kernelspec": {
   "display_name": "Python 3",
   "language": "python",
   "name": "python3"
  },
  "language_info": {
   "codemirror_mode": {
    "name": "ipython",
    "version": 3
   },
   "file_extension": ".py",
   "mimetype": "text/x-python",
   "name": "python",
   "nbconvert_exporter": "python",
   "pygments_lexer": "ipython3",
   "version": "3.8.3"
  }
 },
 "nbformat": 4,
 "nbformat_minor": 4
}
